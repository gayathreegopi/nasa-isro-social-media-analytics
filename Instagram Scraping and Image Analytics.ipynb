{
 "cells": [
  {
   "cell_type": "code",
   "execution_count": 2,
   "id": "3bfcd174-2403-4e32-8cb7-777c9882d9b9",
   "metadata": {},
   "outputs": [],
   "source": [
    "from sklearn.feature_extraction.text import CountVectorizer\n",
    "from sklearn.decomposition import LatentDirichletAllocation\n",
    "import pandas as pd\n",
    "import numpy as np\n",
    "import seaborn as sns\n",
    "import matplotlib.pyplot as plt\n",
    "%matplotlib inline"
   ]
  },
  {
   "cell_type": "code",
   "execution_count": 3,
   "id": "411a6f1e-84ff-41cc-9413-e8d54a5409f5",
   "metadata": {},
   "outputs": [],
   "source": [
    "df = pd.read_csv(\"file_to_use_comparison.csv\")"
   ]
  },
  {
   "cell_type": "markdown",
   "id": "f4e9a4f7-7bed-4b6a-8f7b-c262b5173026",
   "metadata": {},
   "source": [
    "## chatgpt code"
   ]
  },
  {
   "cell_type": "code",
   "execution_count": 3,
   "id": "5d1144d8-db94-4389-9a69-20ded9de30ac",
   "metadata": {},
   "outputs": [
    {
     "ename": "NameError",
     "evalue": "name 'df' is not defined",
     "output_type": "error",
     "traceback": [
      "\u001b[1;31m---------------------------------------------------------------------------\u001b[0m",
      "\u001b[1;31mNameError\u001b[0m                                 Traceback (most recent call last)",
      "Cell \u001b[1;32mIn[3], line 2\u001b[0m\n\u001b[0;32m      1\u001b[0m \u001b[38;5;66;03m# Use the 'comment_body' column for topic modeling\u001b[39;00m\n\u001b[1;32m----> 2\u001b[0m comments \u001b[38;5;241m=\u001b[39m \u001b[43mdf\u001b[49m[\u001b[38;5;124m'\u001b[39m\u001b[38;5;124mmain_body\u001b[39m\u001b[38;5;124m'\u001b[39m]\u001b[38;5;241m.\u001b[39mdropna()\u001b[38;5;241m.\u001b[39mtolist()\n\u001b[0;32m      4\u001b[0m \u001b[38;5;66;03m# Create a CountVectorizer to convert the text data into a document-term matrix\u001b[39;00m\n\u001b[0;32m      5\u001b[0m vectorizer \u001b[38;5;241m=\u001b[39m CountVectorizer(max_df\u001b[38;5;241m=\u001b[39m\u001b[38;5;241m0.95\u001b[39m, min_df\u001b[38;5;241m=\u001b[39m\u001b[38;5;241m2\u001b[39m, stop_words\u001b[38;5;241m=\u001b[39m\u001b[38;5;124m'\u001b[39m\u001b[38;5;124menglish\u001b[39m\u001b[38;5;124m'\u001b[39m)\n",
      "\u001b[1;31mNameError\u001b[0m: name 'df' is not defined"
     ]
    }
   ],
   "source": [
    "\n",
    "# Use the 'comment_body' column for topic modeling\n",
    "comments = df['main_body'].dropna().tolist()\n",
    "\n",
    "# Create a CountVectorizer to convert the text data into a document-term matrix\n",
    "vectorizer = CountVectorizer(max_df=0.95, min_df=2, stop_words='english')\n",
    "dtm = vectorizer.fit_transform(comments)\n",
    "\n",
    "# Define the number of topics\n",
    "n_topics = 4\n",
    "\n",
    "# Create and fit the LDA model\n",
    "lda_model = LatentDirichletAllocation(n_components=n_topics, random_state=42)\n",
    "lda_model.fit(dtm)\n",
    "\n",
    "# Extract the topics and words\n",
    "words = vectorizer.get_feature_names_out()\n",
    "topics = {}\n",
    "\n",
    "for topic_idx, topic in enumerate(lda_model.components_):\n",
    "    top_words_indices = topic.argsort()[-10:][::-1]  # Get indices of top 10 words\n",
    "    top_words = [words[i] for i in top_words_indices]\n",
    "    topics[f\"Topic {topic_idx + 1}\"] = top_words\n",
    "\n",
    "# Convert the topics into a DataFrame for better readability\n",
    "topics_df = pd.DataFrame(topics)\n",
    "\n",
    "# Display the DataFrame\n",
    "print(\"Extracted Topics:\")\n",
    "print(topics_df)\n"
   ]
  },
  {
   "cell_type": "code",
   "execution_count": null,
   "id": "0dac9eec-ce26-492a-a0f5-251a920875f9",
   "metadata": {},
   "outputs": [],
   "source": [
    "# Insta"
   ]
  },
  {
   "cell_type": "code",
   "execution_count": 4,
   "id": "366708b6-7408-4b34-aed3-eecf7cf545de",
   "metadata": {},
   "outputs": [],
   "source": [
    "df = pd.read_csv(\"nasa_output_labels.csv\")"
   ]
  },
  {
   "cell_type": "code",
   "execution_count": 6,
   "id": "974cfe98-14e0-4f42-b333-e567273ed438",
   "metadata": {},
   "outputs": [
    {
     "name": "stdout",
     "output_type": "stream",
     "text": [
      "Extracted Topics:\n",
      "     Topic 1  Topic 2 Topic 3     Topic 4\n",
      "0     arafed    large    star        view\n",
      "1  satellite     nasa  bright       space\n",
      "2       view  picture   close  background\n",
      "3      smoke   object     sky       close\n",
      "4     rocket      sky  galaxy        moon\n",
      "5      image    close  center       earth\n",
      "6        air     star  filled       black\n",
      "7      earth   middle  arafed      planet\n",
      "8       lake   starry   image     station\n",
      "9  launching   single    blue       white\n"
     ]
    }
   ],
   "source": [
    "\n",
    "# Use the 'comment_body' column for topic modeling\n",
    "comments = df['Image Label'].dropna().tolist()\n",
    "\n",
    "# Create a CountVectorizer to convert the text data into a document-term matrix\n",
    "vectorizer = CountVectorizer(max_df=0.95, min_df=2, stop_words='english')\n",
    "dtm = vectorizer.fit_transform(comments)\n",
    "\n",
    "# Define the number of topics\n",
    "n_topics = 4\n",
    "\n",
    "# Create and fit the LDA model\n",
    "lda_model = LatentDirichletAllocation(n_components=n_topics, random_state=42)\n",
    "lda_model.fit(dtm)\n",
    "\n",
    "# Extract the topics and words\n",
    "words = vectorizer.get_feature_names_out()\n",
    "topics = {}\n",
    "\n",
    "for topic_idx, topic in enumerate(lda_model.components_):\n",
    "    top_words_indices = topic.argsort()[-10:][::-1]  # Get indices of top 10 words\n",
    "    top_words = [words[i] for i in top_words_indices]\n",
    "    topics[f\"Topic {topic_idx + 1}\"] = top_words\n",
    "\n",
    "# Convert the topics into a DataFrame for better readability\n",
    "topics_df = pd.DataFrame(topics)\n",
    "\n",
    "# Display the DataFrame\n",
    "print(\"Extracted Topics:\")\n",
    "print(topics_df)\n"
   ]
  },
  {
   "cell_type": "markdown",
   "id": "9865ef35-4eb6-4c8e-9b0e-c62bb092f3f4",
   "metadata": {},
   "source": [
    "Topic 1: Space Missions and Objects\n",
    "\n",
    "Topic 2: Celestial Bodies and Sky\n",
    "\n",
    "Topic 3: Visual Descriptions and Landscapes\n",
    "\n",
    "Topic 4: Views of Space and Earth"
   ]
  },
  {
   "cell_type": "code",
   "execution_count": 21,
   "id": "8ff01354",
   "metadata": {},
   "outputs": [],
   "source": [
    "topic_map = {0:'Space missions and objects',\n",
    "             1: 'Celestial bodies and sky',\n",
    "             2: 'Visual descriptions and landscapes',\n",
    "             3: 'Views of space and earth'}"
   ]
  },
  {
   "cell_type": "code",
   "execution_count": 22,
   "id": "60711e19",
   "metadata": {},
   "outputs": [],
   "source": [
    "# Assign topic labels based on dominant topic in each document\n",
    "# Get topic distribution for each document\n",
    "topic_distributions = lda_model.transform(dtm)\n",
    "\n",
    "# Assign the dominant topic for each document (the topic with the highest probability)\n",
    "df[\"dominant_topic\"] = np.argmax(topic_distributions, axis=1)"
   ]
  },
  {
   "cell_type": "code",
   "execution_count": 23,
   "id": "6ef54076",
   "metadata": {},
   "outputs": [],
   "source": [
    "df[\"dominant_topic_name\"] = df[\"dominant_topic\"].map(topic_map)"
   ]
  },
  {
   "cell_type": "code",
   "execution_count": 24,
   "id": "b342de0e",
   "metadata": {},
   "outputs": [],
   "source": [
    "df['n_likes'] = df['Like Count'].str.replace(\"likes\",\"\").str.replace(\",\",\"\").astype(int)"
   ]
  },
  {
   "cell_type": "code",
   "execution_count": 26,
   "id": "72f64a62",
   "metadata": {},
   "outputs": [
    {
     "data": {
      "text/plain": [
       "dominant_topic_name\n",
       "Celestial bodies and sky              341645.0\n",
       "Space missions and objects            414101.0\n",
       "Views of space and earth              992279.0\n",
       "Visual descriptions and landscapes    771731.0\n",
       "Name: n_likes, dtype: float64"
      ]
     },
     "execution_count": 26,
     "metadata": {},
     "output_type": "execute_result"
    }
   ],
   "source": [
    "df.groupby('dominant_topic_name')['n_likes'].mean().round()"
   ]
  },
  {
   "cell_type": "code",
   "execution_count": 34,
   "id": "46288bec",
   "metadata": {},
   "outputs": [
    {
     "data": {
      "image/png": "[encoded data removed]",
      "text/plain": [
       "<Figure size 640x480 with 1 Axes>"
      ]
     },
     "metadata": {},
     "output_type": "display_data"
    }
   ],
   "source": [
    "sns.barplot(y=df[\"dominant_topic_name\"], x=df[\"n_likes\"], estimator=\"mean\" )\n",
    "plt.show()"
   ]
  },
  {
   "cell_type": "markdown",
   "id": "e14476e2",
   "metadata": {},
   "source": [
    "1. User engagement is measured by the number of the likes on the image\n",
    "2. Images related to **Views of space and earth** and **Visual descriptions and landscapes** got the **highest** user engagement \n",
    "3. Images related to **Celestial bodies and sky** and **Space missions and objects** got the **lowest** user engagement"
   ]
  },
  {
   "cell_type": "code",
   "execution_count": null,
   "id": "f9a339b9",
   "metadata": {},
   "outputs": [],
   "source": []
  },
  {
   "cell_type": "code",
   "execution_count": 35,
   "id": "94cffaaf-cdbe-4d0e-b8d7-ce49318d7d31",
   "metadata": {},
   "outputs": [],
   "source": [
    "df = pd.read_csv(\"isro_output_labels (2).csv\")"
   ]
  },
  {
   "cell_type": "code",
   "execution_count": 36,
   "id": "8a14d1a8-5cb2-472d-8b72-f5b27ee7e435",
   "metadata": {},
   "outputs": [
    {
     "name": "stdout",
     "output_type": "stream",
     "text": [
      "Extracted Topics:\n",
      "                Topic 1   Topic 2           Topic 3           Topic 4\n",
      "0                    और      isro             space              2024\n",
      "1                    तर  somanath               day               day\n",
      "2                    वस  chairman          national             space\n",
      "3                  isro        dr              2024          national\n",
      "4  nationalspaceday2024   answers             india             https\n",
      "5                    शन      shri  ddrjitendrasingh              live\n",
      "6               contest     space              moon  ddrjitendrasingh\n",
      "7       shivshaktipoint  explains              days               www\n",
      "8                trivia  question              isro            august\n",
      "9          chandrayaan3    indian           landing           youtube\n"
     ]
    }
   ],
   "source": [
    "# Use the 'comment_body' column for topic modeling\n",
    "comments = df['Caption'].dropna().tolist()\n",
    "\n",
    "# Create a CountVectorizer to convert the text data into a document-term matrix\n",
    "vectorizer = CountVectorizer(max_df=0.95, min_df=2, stop_words='english')\n",
    "dtm = vectorizer.fit_transform(comments)\n",
    "\n",
    "# Define the number of topics\n",
    "n_topics = 4\n",
    "\n",
    "# Create and fit the LDA model\n",
    "lda_model = LatentDirichletAllocation(n_components=n_topics, random_state=42)\n",
    "lda_model.fit(dtm)\n",
    "\n",
    "# Extract the topics and words\n",
    "words = vectorizer.get_feature_names_out()\n",
    "topics = {}\n",
    "\n",
    "for topic_idx, topic in enumerate(lda_model.components_):\n",
    "    top_words_indices = topic.argsort()[-10:][::-1]  # Get indices of top 10 words\n",
    "    top_words = [words[i] for i in top_words_indices]\n",
    "    topics[f\"Topic {topic_idx + 1}\"] = top_words\n",
    "\n",
    "# Convert the topics into a DataFrame for better readability\n",
    "topics_df = pd.DataFrame(topics)\n",
    "\n",
    "# Display the DataFrame\n",
    "print(\"Extracted Topics:\")\n",
    "print(topics_df)\n"
   ]
  },
  {
   "cell_type": "code",
   "execution_count": 37,
   "id": "b18001f9-094a-476f-9208-4b42de97765b",
   "metadata": {},
   "outputs": [
    {
     "name": "stdout",
     "output_type": "stream",
     "text": [
      "Extracted Topics:\n",
      "   Topic 1  Topic 2     Topic 3     Topic 4\n",
      "0    quote   poster  background         man\n",
      "1    space  picture       close        vest\n",
      "2  picture      man      rocket      arafed\n",
      "3  station  message        blue     glasses\n",
      "4    close     moon       black     sitting\n",
      "5  talking   planet        cell         tie\n",
      "6   camera    space       phone       close\n",
      "7   person   arafed         man       hands\n",
      "8     star    close        logo      poster\n",
      "9    field  shuttle       space  microphone\n"
     ]
    }
   ],
   "source": [
    "\n",
    "# Use the 'comment_body' column for topic modeling\n",
    "comments = df['Image Label'].dropna().tolist()\n",
    "\n",
    "# Create a CountVectorizer to convert the text data into a document-term matrix\n",
    "vectorizer = CountVectorizer(max_df=0.95, min_df=2, stop_words='english')\n",
    "dtm = vectorizer.fit_transform(comments)\n",
    "\n",
    "# Define the number of topics\n",
    "n_topics = 4\n",
    "\n",
    "# Create and fit the LDA model\n",
    "lda_model = LatentDirichletAllocation(n_components=n_topics, random_state=42)\n",
    "lda_model.fit(dtm)\n",
    "\n",
    "# Extract the topics and words\n",
    "words = vectorizer.get_feature_names_out()\n",
    "topics = {}\n",
    "\n",
    "for topic_idx, topic in enumerate(lda_model.components_):\n",
    "    top_words_indices = topic.argsort()[-10:][::-1]  # Get indices of top 10 words\n",
    "    top_words = [words[i] for i in top_words_indices]\n",
    "    topics[f\"Topic {topic_idx + 1}\"] = top_words\n",
    "\n",
    "# Convert the topics into a DataFrame for better readability\n",
    "topics_df = pd.DataFrame(topics)\n",
    "\n",
    "# Display the DataFrame\n",
    "print(\"Extracted Topics:\")\n",
    "print(topics_df)\n"
   ]
  },
  {
   "cell_type": "markdown",
   "id": "d9c1544c-de86-479f-a9e3-d17c45ae215a",
   "metadata": {},
   "source": [
    "Topic 1: Conversations and Visual Representations\n",
    "\n",
    "Topic 2: Space Imagery and People\n",
    "\n",
    "Topic 3: Space Exploration and Technical Scenes\n",
    "\n",
    "Topic 4: People and Professional Appearance"
   ]
  },
  {
   "cell_type": "code",
   "execution_count": 47,
   "id": "5e2122af",
   "metadata": {},
   "outputs": [],
   "source": [
    "topic_map={0:\"Conversations and visual representations\",\n",
    "           1:\"Space imagery and people\",\n",
    "           2: \"Space exploration and technical scenes\",\n",
    "           3:\"People and professional appearance\"}"
   ]
  },
  {
   "cell_type": "code",
   "execution_count": 48,
   "id": "982423d1",
   "metadata": {},
   "outputs": [],
   "source": [
    "# Assign topic labels based on dominant topic in each document\n",
    "# Get topic distribution for each document\n",
    "topic_distributions = lda_model.transform(dtm)\n",
    "\n",
    "# Assign the dominant topic for each document (the topic with the highest probability)\n",
    "df[\"dominant_topic\"] = np.argmax(topic_distributions, axis=1)"
   ]
  },
  {
   "cell_type": "code",
   "execution_count": 49,
   "id": "63ac75a7",
   "metadata": {},
   "outputs": [],
   "source": [
    "df[\"dominant_topic_name\"] = df[\"dominant_topic\"].map(topic_map)"
   ]
  },
  {
   "cell_type": "code",
   "execution_count": 50,
   "id": "be188c69",
   "metadata": {},
   "outputs": [],
   "source": [
    "df['n_likes'] = df['Like Count'].str.replace(\"likes\",\"\").str.replace(\",\",\"\").astype(int)"
   ]
  },
  {
   "cell_type": "code",
   "execution_count": 51,
   "id": "15199745",
   "metadata": {},
   "outputs": [
    {
     "data": {
      "text/plain": [
       "dominant_topic_name\n",
       "Conversations and visual representations     7180.0\n",
       "People and professional appearance           4334.0\n",
       "Space exploration and technical scenes      11842.0\n",
       "Space imagery and people                    10230.0\n",
       "Name: n_likes, dtype: float64"
      ]
     },
     "execution_count": 51,
     "metadata": {},
     "output_type": "execute_result"
    }
   ],
   "source": [
    "df.groupby('dominant_topic_name')['n_likes'].mean().round()"
   ]
  },
  {
   "cell_type": "code",
   "execution_count": 52,
   "id": "c2617a23",
   "metadata": {},
   "outputs": [
    {
     "data": {
      "image/png": "[encoded data removed]",
      "text/plain": [
       "<Figure size 640x480 with 1 Axes>"
      ]
     },
     "metadata": {},
     "output_type": "display_data"
    }
   ],
   "source": [
    "sns.barplot(y=df[\"dominant_topic_name\"], x=df[\"n_likes\"], estimator=\"mean\" )\n",
    "plt.show()"
   ]
  },
  {
   "cell_type": "markdown",
   "id": "7de63cba",
   "metadata": {},
   "source": [
    "1. Images related to **Space exploration and technical scenes** and **Space imagery and people** got the highest user engagement\n",
    "2. Images related to **People and professional appearance** and **Conversations and visual representations** got the lowest user engagement"
   ]
  },
  {
   "cell_type": "markdown",
   "id": "c5f54e96",
   "metadata": {},
   "source": [
    "#### Based on the topics/categories and the corresponding user engagement levels on images posted by NASA and ISRO, we can infer that\n",
    "1. Users are more interested to see the space imagery and media content about space exploration\n",
    "2. Images about scientists or professionals and their conversations draw less engagement from users"
   ]
  }
 ],
 "metadata": {
  "kernelspec": {
   "display_name": "Python 3 (ipykernel)",
   "language": "python",
   "name": "python3"
  },
  "language_info": {
   "codemirror_mode": {
    "name": "ipython",
    "version": 3
   },
   "file_extension": ".py",
   "mimetype": "text/x-python",
   "name": "python",
   "nbconvert_exporter": "python",
   "pygments_lexer": "ipython3",
   "version": "3.12.4"
  }
 },
 "nbformat": 4,
 "nbformat_minor": 5
}
