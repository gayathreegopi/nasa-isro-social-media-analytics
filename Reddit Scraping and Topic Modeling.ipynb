{
 "cells": [
  {
   "cell_type": "code",
   "execution_count": 264,
   "id": "3bfcd174-2403-4e32-8cb7-777c9882d9b9",
   "metadata": {},
   "outputs": [],
   "source": [
    "from sklearn.feature_extraction.text import CountVectorizer\n",
    "from sklearn.decomposition import LatentDirichletAllocation\n",
    "import pandas as pd\n",
    "import numpy as np\n",
    "import seaborn as sns\n",
    "import matplotlib.pyplot as plt\n",
    "import re\n",
    "%matplotlib inline\n",
    "pd.set_option('max_colwidth',1000)"
   ]
  },
  {
   "cell_type": "code",
   "execution_count": 281,
   "id": "411a6f1e-84ff-41cc-9413-e8d54a5409f5",
   "metadata": {},
   "outputs": [],
   "source": [
    "df = pd.read_csv(\"file_to_use_comparison (1).csv\")"
   ]
  },
  {
   "cell_type": "code",
   "execution_count": 282,
   "id": "2e56b456",
   "metadata": {},
   "outputs": [
    {
     "data": {
      "text/plain": [
       "0                                                                                                                                                                                                                                                                                                                                                                                                                                                                                                                                                                                                                                                                                                                                                                                                                                                                                                                                             NaN\n",
       "1                                                                                                                                                                                                                                                             * Your post title should be an accurate summary of your text post. \"Help Needed\", \"Rant\", \"Unpopular Opinion\", are examples of poor titles. \\n* /r/India is not a substitute for Google. Only post your query on /r/India after you have searched for an answer on the web.  \\n* Self-posts have to be specific to India. Don't copy/paste questions from /r/AskReddit or other subreddits. \\n* For relationship queries, please also consider: https://www.reddit.com/r/RelationshipIndia/\\n\\n\\n*I am a bot, and this action was performed automatically. Please [contact the moderators of this subreddit](/message/compose/?to=/r/india) if you have any questions or concerns.*\n",
       "2                                                                                                                                                                                                                                                                                                                           We're bragging that we did it ridiculously cheap and it's true, the slingshot strategy greatly reduced costs. But the truth is also that we're severely underfunded to do space missions. I know a lot of people have been sharing things like this money could have been used to help the poor, but we as a country tax it's citizens quite heavily and we're in no shortage of funds to do space missions with bigger budget AND alleviate poverty.\\n\\nJust that the several departments are very inefficient and waste public funds. Wish the government as a whole operated at the efficiency that ISRO operates.\n",
       "3                                                                                                                                                                                                                                                                                                                                                                                                                                                                                                   Totally agree!\\nIt might be because ISRO did not focus so much on the fact that millions will be looking at their dashboards and presentations outside of the usual govt officials. \\nHaving said that, I too felt that some of us could come together to create some dope PPTs and dashboards and gift them to ISRO folks to use for future press releases.\\nI also have some reservations on their logo too.. but that's a personal opinion\n",
       "4    I was on Narendra Modi's YouTube channel for the live broadcast 30 mins before ISRO's channel started broadcasting. It had a live screen of all the scientists' impromptu talking and the microphone was catching the presenters discussing how they would present and who would say what. They were discussing that 30 mins before CY3 landed on the moon.\\n\\n&#x200B;\\n\\nMy best guess is that they were so involved in trying to get the damn thing on the moon that the presentation of it was not given much importance. Them doing it with the team they have in-house, just gets the job done. \\n\\n&#x200B;\\n\\nSaying that, I do not think even if the budget was not an issue we would get the like of SpaceX's presentation. Marketing of SpaceX is a massive part of SpaceX's existence. Their presentation/marketing team would have worked on the presentation before the final prototype of their rocket would have been ready.\n",
       "Name: comment_body, dtype: object"
      ]
     },
     "execution_count": 282,
     "metadata": {},
     "output_type": "execute_result"
    }
   ],
   "source": [
    "df['comment_body'].head()"
   ]
  },
  {
   "cell_type": "code",
   "execution_count": 283,
   "id": "5e1e9e87",
   "metadata": {},
   "outputs": [],
   "source": [
    "# remove first line: bot generated\n",
    "df = df.iloc[1:].reset_index(drop=True)"
   ]
  },
  {
   "cell_type": "code",
   "execution_count": 284,
   "id": "8bcef7c4",
   "metadata": {},
   "outputs": [],
   "source": [
    "#drop missing values\n",
    "df = df.dropna(subset=[\"comment_body\"]).reset_index(drop=True)"
   ]
  },
  {
   "cell_type": "code",
   "execution_count": 285,
   "id": "387ace3a",
   "metadata": {},
   "outputs": [],
   "source": [
    "# clean comments\n",
    "def clean_comment(comment):\n",
    "    # Remove newline characters and tabs\n",
    "    comment = re.sub(r'[\\n\\t]', ' ', comment)\n",
    "    # Remove URLs (http, https, www)\n",
    "    comment = re.sub(r'http\\S+|www\\S+', '', comment)\n",
    "    # Remove any unwanted characters (optional, e.g., keeping only alphanumeric and punctuation)\n",
    "    comment = re.sub(r'[^\\w\\s,.!?\\'\\\"`-]', '', comment)\n",
    "    # Remove extra spaces\n",
    "    comment = re.sub(r'\\s+', ' ', comment).strip()\n",
    "    return comment\n",
    "df['cleaned_comment'] = df['comment_body'].apply(clean_comment)"
   ]
  },
  {
   "cell_type": "code",
   "execution_count": 286,
   "id": "ad6edb6a",
   "metadata": {},
   "outputs": [],
   "source": [
    "# create tags is_NASA, is_ISRO, is_Both, is_None\n",
    "# Rules to create tags\n",
    "## If comment contains ISRO and NASA, then is_Both = 1\n",
    "## else If comment contains only ISRO, then is_ISRO = 1\n",
    "## else If comment contains only NASA, then is_NASA = 1\n",
    "## else If post_title contains ISRO and NASA, then is_Both = 1\n",
    "## else If post_title contains only ISRO, then is_ISRO = 1\n",
    "## else If post_title contains only NASA, then is_NASA = 1\n",
    "## else is_None = 1\n",
    "def create_tags_with_list(comment, post_title):\n",
    "    # Initialize the tags\n",
    "    tags = {\n",
    "        'is_NASA': 0,\n",
    "        'is_ISRO': 0,\n",
    "        'is_Both': 0,\n",
    "        'is_None': 0,\n",
    "        'actual_comment': comment,\n",
    "        'actual_title':post_title,\n",
    "        'final_comment':\"\",\n",
    "        'final_title':\"\"\n",
    "    }\n",
    "    nasa_list = [\"america\", \"nasa\" ]\n",
    "    isro_list = [\"chandrayaan\", \"india\", \"gaganyaan\", \"mangalyaan\", \"pragyan\", \"isro\"]\n",
    "    # Convert comment and post_title to lowercase for case-insensitive comparison\n",
    "    comment = comment.lower()\n",
    "    post_title = post_title.lower()\n",
    "\n",
    "    comment_words = comment.split()\n",
    "    post_title_words = post_title.split()\n",
    "\n",
    "    is_nasa_in_comment = any(x in nasa_list for x in comment_words)\n",
    "    is_isro_in_comment = any(x in isro_list for x in comment_words)\n",
    "\n",
    "    is_nasa_in_title = any(x in nasa_list for x in post_title_words)\n",
    "    is_isro_in_title = any(x in isro_list for x in post_title_words)\n",
    "    \n",
    "    # Check the conditions based on the rules\n",
    "    if is_nasa_in_comment and is_isro_in_comment:\n",
    "        tags['is_Both'] = 1\n",
    "    elif is_isro_in_comment:\n",
    "        tags['is_ISRO'] = 1\n",
    "    elif is_nasa_in_comment:\n",
    "        tags['is_NASA'] = 1\n",
    "    elif is_nasa_in_title and is_isro_in_title:\n",
    "        tags['is_Both'] = 1\n",
    "    elif is_isro_in_title:\n",
    "        tags['is_ISRO'] = 1\n",
    "    elif is_nasa_in_title:\n",
    "        tags['is_NASA'] = 1\n",
    "    else:\n",
    "        tags['is_None'] = 1\n",
    "    tags['final_comment'] = comment_words\n",
    "    tags['final_title'] = post_title_words\n",
    "     \n",
    "    return tags\n"
   ]
  },
  {
   "cell_type": "code",
   "execution_count": 287,
   "id": "1716d015",
   "metadata": {},
   "outputs": [],
   "source": [
    "df_tags = df.apply(lambda row: create_tags_with_list(row['comment_body'], row['post_title']), axis=1)\n",
    "# Convert the result of apply to a DataFrame (avoid list conversion which can reorder rows)\n",
    "df_tags = pd.DataFrame(df_tags.tolist())\n",
    "# Reset index on both DataFrames to ensure alignment\n",
    "df = df.reset_index(drop=True)\n",
    "df_tags = df_tags.reset_index(drop=True)\n",
    "# Concatenate the original DataFrame with the tags\n",
    "df_combined = pd.concat([df, df_tags], axis=1)#df = pd.concat([df, df_tags], axis=1)"
   ]
  },
  {
   "cell_type": "code",
   "execution_count": 288,
   "id": "e572d15f",
   "metadata": {},
   "outputs": [
    {
     "name": "stdout",
     "output_type": "stream",
     "text": [
      "is_Both\n",
      "0    3012\n",
      "1     246\n",
      "Name: count, dtype: int64\n",
      "is_NASA\n",
      "0    2752\n",
      "1     506\n",
      "Name: count, dtype: int64\n",
      "is_ISRO\n",
      "0    1642\n",
      "1    1616\n",
      "Name: count, dtype: int64\n",
      "is_None\n",
      "0    2368\n",
      "1     890\n",
      "Name: count, dtype: int64\n"
     ]
    }
   ],
   "source": [
    "print(df_combined['is_Both'].value_counts())\n",
    "print(df_combined['is_NASA'].value_counts())\n",
    "print(df_combined['is_ISRO'].value_counts())\n",
    "print(df_combined['is_None'].value_counts())"
   ]
  }
 ],
 "metadata": {
  "kernelspec": {
   "display_name": "Python 3 (ipykernel)",
   "language": "python",
   "name": "python3"
  },
  "language_info": {
   "codemirror_mode": {
    "name": "ipython",
    "version": 3
   },
   "file_extension": ".py",
   "mimetype": "text/x-python",
   "name": "python",
   "nbconvert_exporter": "python",
   "pygments_lexer": "ipython3",
   "version": "3.12.4"
  }
 },
 "nbformat": 4,
 "nbformat_minor": 5
}
